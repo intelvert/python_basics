{
 "cells": [
  {
   "cell_type": "markdown",
   "metadata": {},
   "source": [
    "### Mutable and immutable\n",
    "In Python, everything is an object with its own internal state. Some objects allow you to change their internal state and others don’t. Object whose internal state could be changed is mutable, otherwise is immutable\n",
    "\n",
    "#### Immutable objects:\n",
    "Numbers, Strings, Tuples, Frozen sets\n",
    "\n",
    "#### Mutable objects:\n",
    "Lists, Sets, Dictionaries"
   ]
  },
  {
   "cell_type": "markdown",
   "metadata": {},
   "source": [
    "#### Immutable example"
   ]
  },
  {
   "cell_type": "code",
   "execution_count": null,
   "metadata": {},
   "outputs": [],
   "source": [
    "counter = 100\n",
    "print(id(counter))\n",
    "print(hex(id(counter))) \n",
    "\n",
    "counter = 200\n",
    "print(id(counter))\n",
    "print(hex(id(counter))) # memory address has changed"
   ]
  },
  {
   "cell_type": "markdown",
   "metadata": {},
   "source": [
    "#### Mutable example\n"
   ]
  },
  {
   "cell_type": "code",
   "execution_count": null,
   "metadata": {},
   "outputs": [],
   "source": [
    "ranks = [1, 2, 3]\n",
    "print(hex(id(ranks)))\n",
    "\n",
    "ranks.append(4)\n",
    "\n",
    "print(ranks)\n",
    "print(hex(id(ranks))) # memory address is the same"
   ]
  },
  {
   "cell_type": "markdown",
   "metadata": {},
   "source": [
    "#### Mutable and Immutable example:"
   ]
  },
  {
   "cell_type": "code",
   "execution_count": null,
   "metadata": {},
   "outputs": [],
   "source": [
    "low = [1, 2, 3]\n",
    "high = [4, 5]\n",
    "\n",
    "rankings = (low, high)\n",
    "print(rankings)\n",
    "print(\"Address of 'high': \", hex(id(high)))\n",
    "print(\"Address of 'rankings': \", hex(id(rankings)))\n",
    "\n",
    "high.append(6)\n",
    "print(rankings)\n",
    "print(\"Address of 'high': \", hex(id(high)))\n",
    "print(\"Address of 'rankings': \", hex(id(rankings)))"
   ]
  }
 ],
 "metadata": {
  "kernelspec": {
   "display_name": "Python 3",
   "language": "python",
   "name": "python3"
  },
  "language_info": {
   "codemirror_mode": {
    "name": "ipython",
    "version": 3
   },
   "file_extension": ".py",
   "mimetype": "text/x-python",
   "name": "python",
   "nbconvert_exporter": "python",
   "pygments_lexer": "ipython3",
   "version": "3.12.2"
  }
 },
 "nbformat": 4,
 "nbformat_minor": 2
}
