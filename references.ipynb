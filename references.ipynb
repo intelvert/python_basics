{
 "cells": [
  {
   "cell_type": "code",
   "execution_count": null,
   "metadata": {},
   "outputs": [],
   "source": [
    "counter=100\n",
    "print(counter)\n",
    "print(id(counter)) # memory address of the integer object\n",
    "print(hex(id(counter))) # memory in hex\n"
   ]
  },
  {
   "cell_type": "code",
   "execution_count": null,
   "metadata": {},
   "outputs": [],
   "source": [
    "counter=100\n",
    "max=counter\n",
    "print(id(counter))\n",
    "print(hex(id(counter)))\n",
    "print('---------')\n",
    "print(id(max))\n",
    "print(hex(id(max)))\n",
    "max=999\n",
    "counter=1\n",
    "print(id(counter))\n",
    "print(hex(id(counter)))\n",
    "print('---------')\n",
    "print(id(max))\n",
    "print(hex(id(max)))"
   ]
  },
  {
   "cell_type": "code",
   "execution_count": null,
   "metadata": {},
   "outputs": [],
   "source": [
    "import ctypes\n",
    "\n",
    "\n",
    "def ref_count(address):\n",
    "    return ctypes.c_long.from_address(address).value\n",
    "\n",
    "\n",
    "numbers = [1, 2, 3]\n",
    "numbers_id = id(numbers)\n",
    "\n",
    "print(ref_count(numbers_id))  # 1\n",
    "\n",
    "ranks = numbers\n",
    "print(ref_count(numbers_id))  # 2\n",
    "\n",
    "ranks = None\n",
    "print(ref_count(numbers_id))  # 1\n",
    "\n",
    "numbers = None\n",
    "print(ref_count(numbers_id))  # 0"
   ]
  },
  {
   "cell_type": "markdown",
   "metadata": {},
   "source": [
    "### Level 1: Easy \n",
    "**Task:** Write a function `modify_list(lst)` that takes a list `lst` and adds 1 to each element. Ensure that the changes persist in the original list."
   ]
  },
  {
   "cell_type": "code",
   "execution_count": 7,
   "metadata": {},
   "outputs": [],
   "source": [
    "def modify_list(lst):\n",
    "    for i in range(len(lst)):\n",
    "        lst[i]+=1"
   ]
  },
  {
   "cell_type": "markdown",
   "metadata": {},
   "source": [
    "### Level 2: Medium\n",
    "**Task:** Write a function `swap_first_last(lst)` that swaps the first and last elements of a list. Try to do this in two ways: using a copy of the list and without using a copy. Explain the difference in behavior between the two approaches."
   ]
  },
  {
   "cell_type": "code",
   "execution_count": null,
   "metadata": {},
   "outputs": [],
   "source": [
    "def swap_first_last(lst):\n",
    "    lst[0], lst[-1]=lst[-1], lst[0]\n",
    "    "
   ]
  },
  {
   "cell_type": "markdown",
   "metadata": {},
   "source": [
    "### Level 3: Hard\n",
    "**Task:** You have a nested dictionary representing an employee and their departments, for example:\n",
    "```employee = {\n",
    "    'name': 'John',\n",
    "    'departments': {\n",
    "        'finance': {'budget': 1000},\n",
    "        'it': {'projects': 3}\n",
    "    }\n",
    "}\n",
    "```\n",
    "\n",
    "Write a function `update_budget(employee, department, new_budget)` that updates the budget of the given department and explain what happens if you change the budget directly via a reference.\n"
   ]
  },
  {
   "cell_type": "code",
   "execution_count": null,
   "metadata": {},
   "outputs": [],
   "source": [
    "employee = {\n",
    "    'name': 'John',\n",
    "    'departments': {\n",
    "        'finance': {'budget': 1000},\n",
    "        'it': {'projects': 3}\n",
    "    }\n",
    "}\n",
    "\n",
    "def update_budget(employee, department, new_budget):\n",
    "    employee['departments'][department]['budget']=new_budget"
   ]
  }
 ],
 "metadata": {
  "kernelspec": {
   "display_name": "Python 3",
   "language": "python",
   "name": "python3"
  },
  "language_info": {
   "codemirror_mode": {
    "name": "ipython",
    "version": 3
   },
   "file_extension": ".py",
   "mimetype": "text/x-python",
   "name": "python",
   "nbconvert_exporter": "python",
   "pygments_lexer": "ipython3",
   "version": "3.12.2"
  }
 },
 "nbformat": 4,
 "nbformat_minor": 2
}
