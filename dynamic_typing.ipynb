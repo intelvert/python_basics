{
 "cells": [
  {
   "cell_type": "code",
   "execution_count": null,
   "metadata": {},
   "outputs": [],
   "source": [
    "message=\"hello\"\n",
    "print(type(message))\n",
    "\n",
    "message=100\n",
    "print(type(message))"
   ]
  },
  {
   "cell_type": "markdown",
   "metadata": {},
   "source": [
    "### Level 1 (Medium)\n",
    " Write a function `dynamic_changer()` that takes any variable, prints its type, changes its type by assigning a different data type, and prints the new type.\n",
    " \n",
    "\n",
    "\n",
    "\n"
   ]
  },
  {
   "cell_type": "code",
   "execution_count": null,
   "metadata": {},
   "outputs": [],
   "source": [
    "import random\n",
    "\n",
    "types = [\n",
    "    (\"string\", \"Hello\"),\n",
    "    (\"integer\", 42),\n",
    "    (\"float\", 3.14),\n",
    "    (\"boolean\", True),\n",
    "    (\"list\", [1, 2, 3]),\n",
    "    (\"dictionary\", {\"key\": \"value\"}),\n",
    "    (\"tuple\", (1, 2)),\n",
    "    (\"none\", None)\n",
    "]\n",
    "\n",
    "def dynamic_changer(variable):\n",
    "    global types\n",
    "    type_name, value = random.choice(types)\n",
    "    print(type_name, value)\n",
    "    print(f\"Assigned type: {type_name}, Value: {value}, Original Type: {type(variable)}\")\n",
    "    return value\n",
    "\n",
    "    \n",
    "a=100\n",
    "a=dynamic_changer(a)\n",
    "b='Hello'\n",
    "b=dynamic_changer(b)\n",
    "c={15:\"goodbye\"}\n",
    "c=dynamic_changer(c)\n",
    "    "
   ]
  },
  {
   "cell_type": "markdown",
   "metadata": {},
   "source": [
    "### Level 2 (Hard) \n",
    "Implement a program that accepts user input and dynamically changes variable types based on the input format (string, int, float, etc.). Use exception handling to manage type conversions and print each type change.\n"
   ]
  },
  {
   "cell_type": "code",
   "execution_count": null,
   "metadata": {},
   "outputs": [],
   "source": [
    "import random\n",
    "\n",
    "types = [\n",
    "    (\"string\", \"Bye\"),\n",
    "    (\"integer\", 13),\n",
    "    (\"float\", 2.71),\n",
    "    (\"boolean\", True),\n",
    "    (\"list\", [3, 2, 1]),\n",
    "    (\"dictionary\", {\"key\": \"meow\"}),\n",
    "    (\"tuple\", (5, 6)),\n",
    "    (\"none\", None)\n",
    "]\n",
    "\n",
    "while (variable:=input(\"Enter a value (or 'end' to stop): \")) !='end':\n",
    "    print(f\"Original Type: {type(variable)}, Value: {variable}\")\n",
    "    try:\n",
    "        type_name, value = random.choice(types)\n",
    "        variable=value\n",
    "        print(f\"Assigned type: {type_name}, Value: {variable}\")\n",
    "    except Exception as e:\n",
    "        print(f\"Error: {e}, could not change type.\")"
   ]
  }
 ],
 "metadata": {
  "kernelspec": {
   "display_name": "Python 3",
   "language": "python",
   "name": "python3"
  },
  "language_info": {
   "codemirror_mode": {
    "name": "ipython",
    "version": 3
   },
   "file_extension": ".py",
   "mimetype": "text/x-python",
   "name": "python",
   "nbconvert_exporter": "python",
   "pygments_lexer": "ipython3",
   "version": "3.12.2"
  }
 },
 "nbformat": 4,
 "nbformat_minor": 2
}
